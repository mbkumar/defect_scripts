{
 "metadata": {
  "name": "Interstitial_analysis"
 },
 "nbformat": 3,
 "nbformat_minor": 0,
 "worksheets": [
  {
   "cells": [
    {
     "cell_type": "code",
     "collapsed": false,
     "input": [
      "from data_mining import *\n",
      "from pylab import *"
     ],
     "language": "python",
     "metadata": {},
     "outputs": [],
     "prompt_number": 24
    },
    {
     "cell_type": "code",
     "collapsed": false,
     "input": [
      "inter_dict = return_dict('inter_prop_cation_prune.json')"
     ],
     "language": "python",
     "metadata": {},
     "outputs": [],
     "prompt_number": 25
    },
    {
     "cell_type": "code",
     "collapsed": false,
     "input": [
      "pc_cr_rr = pearson_coeff('charge_ratio', 'radius_ratio', inter_dict)\n"
     ],
     "language": "python",
     "metadata": {},
     "outputs": [],
     "prompt_number": 26
    },
    {
     "cell_type": "code",
     "collapsed": false,
     "input": [
      "fig = figure()\n",
      "subplot(1,1,1)"
     ],
     "language": "python",
     "metadata": {},
     "outputs": [
      {
       "output_type": "pyout",
       "prompt_number": 27,
       "text": [
        "<matplotlib.axes.AxesSubplot at 0x107549590>"
       ]
      }
     ],
     "prompt_number": 27
    },
    {
     "cell_type": "code",
     "collapsed": false,
     "input": [
      "chrg_rat_val = [inter_dict[key]['charge_ratio'] for key in inter_dict.keys()]\n",
      "no_inter_val = [inter_dict[key]['no_inter'] for key in inter_dict.keys()]\n",
      "for key in inter_dict.keys():\n",
      "    if inter_dict[key]['no_inter'] > 10:\n",
      "        print key, inter_dict[key]['formula'], inter_dict[key]['no_inter']\n",
      "scatter(chrg_rat_val, no_inter_val)\n",
      "pc_cr_in = pearson_coeff('charge_ratio', 'no_inter', inter_dict)\n",
      "xlabel('Charge ratio', size=16)\n",
      "ylabel('Interstitial Count', size=16)\n",
      "text(0.1,1.05,'Pearson Coeffecient = %f'%pc_cr_in, size=20, transform = gca().transAxes)\n",
      "#show()\n",
      "savefig(\"/Users/mbkumar/Dropbox/4Bharat/Work/defect_data_mining/Interstitials/Cation_Interstitials/ChargeRatio.vs.InterCount_scat.png\")"
     ],
     "language": "python",
     "metadata": {},
     "outputs": [],
     "prompt_number": 28
    },
    {
     "cell_type": "code",
     "collapsed": false,
     "input": [
      "rad_rat_val = [inter_dict[key]['radius_ratio'] for key in inter_dict.keys()]\n",
      "no_inter_val = [inter_dict[key]['no_inter'] for key in inter_dict.keys()]\n",
      "for key in inter_dict.keys():\n",
      "    if inter_dict[key]['no_inter'] > 10:\n",
      "        print key, inter_dict[key]['formula'], inter_dict[key]['no_inter']\n",
      "cla()\n",
      "scatter(rad_rat_val, no_inter_val)\n",
      "pc_rr_in = pearson_coeff('no_inter', 'radius_ratio', inter_dict)\n",
      "xlabel('Anion to cation radius ratio', size=16)\n",
      "ylabel('Interstitial Count', size=16)\n",
      "text(0.1,1.05,'Pearson Coeffecient = %f'%pc_rr_in, size=20, transform = gca().transAxes)\n",
      "#show()\n",
      "savefig(\"/Users/mbkumar/Dropbox/4Bharat/Work/defect_data_mining/Interstitials/Cation_Interstitials/RadiusRatio.vs.InterCount_scat.png\")"
     ],
     "language": "python",
     "metadata": {},
     "outputs": [],
     "prompt_number": 29
    },
    {
     "cell_type": "code",
     "collapsed": false,
     "input": [
      "symops_inter_no = []\n",
      "for key in inter_dict.keys():\n",
      "    for i in range(len(inter_dict[key]['interstitials'])):\n",
      "        inter_no = inter_dict[key]['no_inter']\n",
      "        symops_inter_no.append((inter_dict[key]['no_symmops'], inter_no))\n",
      "\n",
      "X = []\n",
      "Y = []\n",
      "for pair in symops_inter_no:\n",
      "    x,y = pair\n",
      "    X.append(x)\n",
      "    Y.append(y)\n",
      " \n",
      "cla()\n",
      "ax = gca()\n",
      "ax.scatter(X,Y)\n",
      "ax.set_xscale('log',basex=2)\n",
      "#text(0.1,1.05,'Pearson Coeffecient = %f'%pc_rr_in, size=20, transform = gca().transAxes)\n",
      "xlabel('No. of symmetry operations', size=16)\n",
      "ylabel('Interstitial Count', size=16)\n",
      "#show()\n",
      "savefig(\"/Users/mbkumar/Dropbox/4Bharat/Work/defect_data_mining/Interstitials/Cation_Interstitials/SymmopsNo.vs.InterCount_scat.png\")"
     ],
     "language": "python",
     "metadata": {},
     "outputs": [],
     "prompt_number": 30
    },
    {
     "cell_type": "code",
     "collapsed": false,
     "input": [
      "inter_no_dict = {}\n",
      "for key in inter_dict.keys():\n",
      "    inter_no = inter_dict[key]['no_inter']\n",
      "    if inter_no not in inter_no_dict.keys():\n",
      "        inter_no_dict[inter_no] = 1\n",
      "    else:\n",
      "        inter_no_dict[inter_no] += 1\n",
      "X = inter_no_dict.keys()\n",
      "X.sort()\n",
      "Y = []\n",
      "for x in X:\n",
      "    Y.append(inter_no_dict[x])\n",
      "\n",
      "inter_no_list = []\n",
      "for key in inter_dict.keys():\n",
      "    inter_no_list.append(inter_dict[key]['no_inter'])\n",
      "bins = [0.5,1.5,2.5,3.5,4.5,5.5,6.5,7.5,8.5,9.5,10.5]\n",
      "cla()\n",
      "ax.hist(inter_no_list,bins)\n",
      "xlabel('Interstitial Count', size=16)\n",
      "ylabel('No. of Structures', size=16)\n",
      "#show()\n",
      "savefig(\"/Users/mbkumar/Dropbox/4Bharat/Work/defect_data_mining/Interstitials/Cation_Interstitials/InterCount.vs.StructCount_hist.png\")"
     ],
     "language": "python",
     "metadata": {},
     "outputs": [],
     "prompt_number": 31
    },
    {
     "cell_type": "code",
     "collapsed": false,
     "input": [
      "inter_rad_pair = []\n",
      "for key in inter_dict.keys():\n",
      "    for i in range(len(inter_dict[key]['interstitials'])):\n",
      "        inter_rad = inter_dict[key]['interstitials'][i]['radius']\n",
      "        inter_rad_pair.append((inter_dict[key]['radius_ratio'], inter_rad))\n",
      "\n",
      "X = []\n",
      "Y = []\n",
      "for pair in inter_rad_pair:\n",
      "    x,y = pair\n",
      "    X.append(x)\n",
      "    Y.append(y)\n",
      "\n",
      "pc_rr_rad = pearson_coeff_arrays(X,Y) \n",
      "cla()\n",
      "ax = gca()\n",
      "ax.scatter(X,Y)\n",
      "text(0.1,1.05,'Pearson Coeffecient = %f'%pc_rr_rad, size=20, transform = gca().transAxes)\n",
      "xlabel('Anion to cation radius ratio', size=16)\n",
      "ylabel('Interstitial radius', size=16)\n",
      "#show()\n",
      "savefig(\"/Users/mbkumar/Dropbox/4Bharat/Work/defect_data_mining/Interstitials/Cation_Interstitials/RadiusRatio.vs.InterRadius_scat.png\")"
     ],
     "language": "python",
     "metadata": {},
     "outputs": [],
     "prompt_number": 32
    },
    {
     "cell_type": "code",
     "collapsed": false,
     "input": [
      "chrg_rad_pair = []\n",
      "for key in inter_dict.keys():\n",
      "    for i in range(len(inter_dict[key]['interstitials'])):\n",
      "        inter_rad = inter_dict[key]['interstitials'][i]['radius']\n",
      "        chrg_rad_pair.append((inter_dict[key]['charge_ratio'], inter_rad))\n",
      "\n",
      "X = []\n",
      "Y = []\n",
      "for pair in chrg_rad_pair:\n",
      "    x,y = pair\n",
      "    X.append(x)\n",
      "    Y.append(y)\n",
      "\n",
      "pc_cr_rad = pearson_coeff_arrays(X,Y) \n",
      "cla()\n",
      "ax = gca()\n",
      "ax.scatter(X,Y)\n",
      "text(0.1,1.05,'Pearson Coeffecient = %f'%pc_cr_rad, size=20, transform = gca().transAxes)\n",
      "xlabel('Charge ratio', size=16)\n",
      "ylabel('Interstitial radius', size=16)\n",
      "#show()\n",
      "savefig(\"/Users/mbkumar/Dropbox/4Bharat/Work/defect_data_mining/Interstitials/Cation_Interstitials/ChargeRatio.vs.InterRadius_scat.png\")"
     ],
     "language": "python",
     "metadata": {},
     "outputs": [],
     "prompt_number": 33
    },
    {
     "cell_type": "code",
     "collapsed": false,
     "input": [
      "symops_inter_rad = []\n",
      "for key in inter_dict.keys():\n",
      "    for i in range(len(inter_dict[key]['interstitials'])):\n",
      "        inter_rad = inter_dict[key]['interstitials'][i]['radius']\n",
      "        symops_inter_rad.append((inter_dict[key]['no_symmops'], inter_rad))\n",
      "\n",
      "X = []\n",
      "Y = []\n",
      "for pair in symops_inter_rad:\n",
      "    x,y = pair\n",
      "    X.append(x)\n",
      "    Y.append(y)\n",
      " \n",
      "cla()\n",
      "ax = gca()\n",
      "ax.scatter(X,Y)\n",
      "ax.set_xscale('log', basex=2)\n",
      "xlabel('No. of symmetry operations', size=16)\n",
      "ylabel('Interstitial radius', size=16)\n",
      "#show()\n",
      "savefig(\"/Users/mbkumar/Dropbox/4Bharat/Work/defect_data_mining/Interstitials/Cation_Interstitials/SymmopsNo.vs.InterRadius_scat.png\")"
     ],
     "language": "python",
     "metadata": {},
     "outputs": [],
     "prompt_number": 34
    },
    {
     "cell_type": "code",
     "collapsed": false,
     "input": [
      "coord_no_vs_radius = []\n",
      "for key in inter_dict.keys():\n",
      "    for i in range(len(inter_dict[key]['interstitials'])):\n",
      "        rad = inter_dict[key]['interstitials'][i]['radius']\n",
      "        coord_no = inter_dict[key]['interstitials'][i]['coord_no']\n",
      "        coord_no_vs_radius.append((coord_no, rad))\n",
      "\n",
      "X = []\n",
      "Y = []\n",
      "for pair in coord_no_vs_radius:\n",
      "    x,y = pair\n",
      "    X.append(x)\n",
      "    Y.append(y)\n",
      "pc_rad_coord = pearson_coeff_arrays(X,Y)    \n",
      "cla()\n",
      "ax = gca()\n",
      "ax.scatter(X,Y)\n",
      "text(0.1,1.05,'Pearson Coeffecient = %f'%pc_rad_coord, size=20, transform = gca().transAxes)\n",
      "xlabel('Interstitial coordination number', size=16)\n",
      "ylabel('interstitial radius', size=16)\n",
      "#show()\n",
      "savefig(\"/Users/mbkumar/Dropbox/4Bharat/Work/defect_data_mining/Interstitials/Cation_Interstitials/InterCoordNo.vs.InterRadius_scat.png\")"
     ],
     "language": "python",
     "metadata": {},
     "outputs": [],
     "prompt_number": 35
    },
    {
     "cell_type": "code",
     "collapsed": false,
     "input": [
      "X = [0.557, 0.387, 0.423, 0.562, 0.772, 0.392, 0.971, 0.944, 0.622, 0.558]\n",
      "Y = [73.464648464, \n",
      "     87.693361514, \n",
      "     86.531005014, \n",
      "     78.040373344, \n",
      "     69.205353404, \n",
      "     88.094168894, \n",
      "     66.075507294, \n",
      "     66.839183284,\n",
      "     63.211042814,\n",
      "     71.483510234\n",
      "    ]\n",
      "cla()\n",
      "ax = gca()\n",
      "ax.scatter(X,Y)\n",
      "xlabel(r'Interstitial Radius ($\\AA$)', size=16)\n",
      "ylabel('Formation Energy (eV)', size=16)\n",
      "#show()\n",
      "savefig(\"/Users/mbkumar/Dropbox/4Bharat/Work/defect_data_mining/Interstitials/InterRad.vs.energy.png\")"
     ],
     "language": "python",
     "metadata": {},
     "outputs": [],
     "prompt_number": 38
    },
    {
     "cell_type": "code",
     "collapsed": false,
     "input": [
      "x = [0,2,3,4,5,8,10]\n",
      "y = [0]*len(x)\n",
      "s = [20*2**n for n in range(len(x))]\n",
      "s = [1]*len(x)\n",
      "cla()\n",
      "scatter(x,y,s)\n",
      "show()"
     ],
     "language": "python",
     "metadata": {},
     "outputs": [],
     "prompt_number": 46
    },
    {
     "cell_type": "code",
     "collapsed": false,
     "input": [],
     "language": "python",
     "metadata": {},
     "outputs": []
    }
   ],
   "metadata": {}
  }
 ]
}