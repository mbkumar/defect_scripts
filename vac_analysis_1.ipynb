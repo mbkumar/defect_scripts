{
 "metadata": {
  "name": "vac_analysis_1"
 },
 "nbformat": 3,
 "nbformat_minor": 0,
 "worksheets": [
  {
   "cells": [
    {
     "cell_type": "code",
     "collapsed": false,
     "input": [],
     "language": "python",
     "metadata": {},
     "outputs": []
    },
    {
     "cell_type": "code",
     "collapsed": false,
     "input": [
      "import os\n",
      "\n",
      "from pylab import *\n",
      "from mpl_toolkits.mplot3d import Axes3D\n",
      "import matplotlib.pyplot as plt\n",
      "\n",
      "from pymatgen.io.cifio import CifParser\n",
      "from pymatgen.core.structure import Structure\n",
      "from pymatgen.io.cifio import CifParser\n",
      "from pymatgen.defects.point_defects import *"
     ],
     "language": "python",
     "metadata": {},
     "outputs": [],
     "prompt_number": 1
    },
    {
     "cell_type": "code",
     "collapsed": false,
     "input": [
      "struct_dir = 'Binary oxide dataset/20130524/comp_structures'\n",
      "filelist = os.listdir(struct_dir)\n",
      "for filen in filelist:\n",
      "    if os.path.splitext(filen)[1] != '.cif':\n",
      "        filelist.remove(filen)\n",
      "\n",
      "for filen in filelist: #Investigate why its needed again\n",
      "    if os.path.splitext(filen)[1] != '.cif':\n",
      "        filelist.remove(filen)\n",
      "        \n",
      "for filen in filelist[0:20]:\n",
      "    #read the file to pymatgen struct\n",
      "    filename = os.path.join(struct_dir,filen)\n",
      "    try:\n",
      "        struct = CifParser(filename).get_structures()[0]\n",
      "    except:\n",
      "        print filename\n",
      "        continue\n",
      "    \n",
      "    try:\n",
      "        struct_val_rad = StructWithValenceIonicRadius(struct)\n",
      "    except:\n",
      "        print filename\n",
      "        continue\n",
      "        \n",
      "    vac = Vacancy(struct_val_rad)"
     ],
     "language": "python",
     "metadata": {},
     "outputs": [],
     "prompt_number": 1
    },
    {
     "cell_type": "code",
     "collapsed": false,
     "input": [
      "struct_dir = 'Binary oxide dataset/20130524/comp_structures'\n",
      "filelist = os.listdir(struct_dir)\n",
      "for filen in filelist:\n",
      "    if os.path.splitext(filen)[1] != '.cif':\n",
      "        filelist.remove(filen)\n",
      "\n",
      "for filen in filelist: #Investigate why its needed again\n",
      "    if os.path.splitext(filen)[1] != '.cif':\n",
      "        filelist.remove(filen)\n",
      "        \n",
      "# Use the number as struct identifier\n",
      "# Store the remaining string as formula\n",
      "struct_descript_dict = {}\n",
      "for filen in filelist:\n",
      "    name = os.path.splitext(filen)[0]\n",
      "    item = name.split('--')\n",
      "    key = item[0]\n",
      "    struct_descript_dict[key] = {'formula':''.join(item[1].split())}\n",
      "\n",
      "    #read the file to pymatgen struct\n",
      "    filename = os.path.join(struct_dir,filen)\n",
      "    try:\n",
      "        struct = CifParser(filename).get_structures()[0]\n",
      "    except:\n",
      "        print filename\n",
      "        del struct_descript_dict[key]\n",
      "        continue\n",
      "    \n",
      "    try:\n",
      "        vac = Vacancy(struct)\n",
      "    except:\n",
      "        print key, struct_descript_dict[key]['formula']\n",
      "        del struct_descript_dict[key]\n",
      "        continue\n",
      "    vac_no = vac.defectsite_count()\n",
      "    # add number of vacancies to descriptor\n",
      "    struct_descript_dict[key]['vac_no'] = vac_no\n",
      "    \n",
      "    #Create a list storing a dictionary of vacancy properties for each vacancy\n",
      "    vacancy_list = []\n",
      "    valences = vac.valences.values()\n",
      "    valences.sort()\n",
      "    #print vac.valences.values()\n",
      "    try:\n",
      "        anion_cation_charge_ratio = abs(valences[-1]/valences[0])\n",
      "    except:   #BVAnalyzer fails sometimes and valences are set to 0\n",
      "        print valences\n",
      "        anion_cation_charge_ratio = 0\n",
      "    radii = vac.ionic_radii.values()\n",
      "    radii.sort()\n",
      "    try:\n",
      "        anion_cation_radii_ratio = radii[-1]/radii[0]\n",
      "    except:\n",
      "        #print radii\n",
      "        anion_cation_radii_ratio = 0\n",
      "    for i in range(vac_no):\n",
      "        vac_prop_dict = {}\n",
      "        vac_prop_dict['coordination_no'] = vac.get_defectsite_coordination_number(i)\n",
      "        vac_prop_dict['coordinated_elements'] = vac.get_coordinated_elements(i)\n",
      "        vac_prop_dict['eff_charge'] = vac.get_defectsite_effective_charge(i)\n",
      "        vac_prop_dict['el'] = vac.get_defectsite(i).species_string\n",
      "        #vac_prop_dict['surf_area'] = vac.get_surface_area(i)\n",
      "        #vac_prop_dict['volume'] = vac.get_volume(i)\n",
      "        vac_prop_dict['chrg_ratio'] = anion_cation_charge_ratio\n",
      "        vac_prop_dict['radii_ratio'] = anion_cation_radii_ratio\n",
      "        vacancy_list.append(vac_prop_dict)\n",
      "    struct_descript_dict[key]['vacancies'] = vacancy_list\n",
      "        "
     ],
     "language": "python",
     "metadata": {},
     "outputs": [
      {
       "output_type": "stream",
       "stream": "stdout",
       "text": [
        "BVAnalyzer failed. The defect effective charge, and volume and surface area may not work\n",
        "15070\n",
        "BVAnalyzer failed. The defect effective charge, and volume and surface area may not work"
       ]
      },
      {
       "output_type": "stream",
       "stream": "stdout",
       "text": [
        "\n",
        "173152\n",
        "BVAnalyzer failed. The defect effective charge, and volume and surface area may not work"
       ]
      },
      {
       "output_type": "stream",
       "stream": "stdout",
       "text": [
        "\n",
        "26582\n",
        "BVAnalyzer failed. The defect effective charge, and volume and surface area may not work"
       ]
      },
      {
       "output_type": "stream",
       "stream": "stdout",
       "text": [
        "\n",
        "28838\n",
        "BVAnalyzer failed. The defect effective charge, and volume and surface area may not work"
       ]
      },
      {
       "output_type": "stream",
       "stream": "stdout",
       "text": [
        "\n",
        "28919\n",
        "BVAnalyzer failed. The defect effective charge, and volume and surface area may not work"
       ]
      },
      {
       "output_type": "stream",
       "stream": "stdout",
       "text": [
        "\n",
        "28920\n",
        "BVAnalyzer failed. The defect effective charge, and volume and surface area may not work"
       ]
      },
      {
       "output_type": "stream",
       "stream": "stdout",
       "text": [
        "\n",
        "38247\n",
        "BVAnalyzer failed. The defect effective charge, and volume and surface area may not work"
       ]
      },
      {
       "output_type": "stream",
       "stream": "stdout",
       "text": [
        "\n",
        "52731\n",
        "BVAnalyzer failed. The defect effective charge, and volume and surface area may not work"
       ]
      },
      {
       "output_type": "stream",
       "stream": "stdout",
       "text": [
        "\n",
        "647341\n",
        "BVAnalyzer failed. The defect effective charge, and volume and surface area may not work"
       ]
      },
      {
       "output_type": "stream",
       "stream": "stdout",
       "text": [
        "\n",
        "77651\n"
       ]
      }
     ],
     "prompt_number": 5
    },
    {
     "cell_type": "code",
     "collapsed": false,
     "input": [
      "def dist(vac1, vac2, *prop):\n",
      "    dist = 0\n",
      "    for p in prop:\n",
      "        x1 = vac1[p]\n",
      "        x2 = vac2[p]\n",
      "        dist += (x1-x2)*(x1-x2)"
     ],
     "language": "python",
     "metadata": {},
     "outputs": [],
     "prompt_number": 19
    },
    {
     "cell_type": "code",
     "collapsed": false,
     "input": [
      "vac_no_dict = {}\n",
      "for key in struct_descript_dict.keys():\n",
      "    vac_no = struct_descript_dict[key]['vac_no']\n",
      "    if vac_no not in vac_no_dict.keys():\n",
      "        vac_no_dict[vac_no] = 1\n",
      "    else:\n",
      "        vac_no_dict[vac_no] += 1\n",
      "X = vac_no_dict.keys()\n",
      "X.sort()\n",
      "Y = []\n",
      "for x in X:\n",
      "    Y.append(vac_no_dict[x])\n",
      "#print vac_no_dict.keys(), vac_no_dict.values()\n",
      "plot(X,Y)\n",
      "show()\n"
     ],
     "language": "python",
     "metadata": {},
     "outputs": [],
     "prompt_number": 33
    },
    {
     "cell_type": "code",
     "collapsed": false,
     "input": [
      "#Scatter plot\n",
      "def scat_plt (struct_dict):\n",
      "    # Need three properties\n",
      "    X=[]          #Charge\n",
      "    Y=[]          #Cordination number\n",
      "    Z=[]          #no. of vacancies\n",
      "    fig = plt.figure()\n",
      "    ax = fig.add_subplot(111,projection='3d')\n",
      "    vac_mat = [0]*10\n",
      "    vac_mat = [vac_mat]*3\n",
      "    print vac_mat\n",
      "    \n",
      "    for key in struct_descript_dict.keys():\n",
      "        for i in range(struct_descript_dict[key]['vac_no']):\n",
      "            x = struct_descript_dict[key]['vacancies'][i]['chrg_ratio']\n",
      "            y = struct_descript_dict[key]['vacancies'][i]['coordination_no']\n",
      "            x = int(x)\n",
      "            y = int(round(y))\n",
      "            if x <= 3 and y <= 10:\n",
      "                vac_mat[x][y] += vac_mat[x][y]\n",
      "            \n",
      "    x_mat = [[1]*10,[2]*10,[3]*10]\n",
      "    y_mat =  [1,2,3,4,5,6,7,8,9,10]\n",
      "    y_mat = [y_mat]*3\n",
      "    for x in 1,2,3:\n",
      "        for y in y_mat[0]:\n",
      "            X.append(x)\n",
      "            Y.append(y)\n",
      "            Z.append(z)\n",
      "            ax.scatter(X,Y,Z)\n",
      "        \n",
      "    plt.show()"
     ],
     "language": "python",
     "metadata": {},
     "outputs": [],
     "prompt_number": 32
    },
    {
     "cell_type": "code",
     "collapsed": false,
     "input": [
      "scat_plt(struct_descript_dict, 'chrg_ratio', 'radii_ratio', 'coordination_no')"
     ],
     "language": "python",
     "metadata": {},
     "outputs": [],
     "prompt_number": 13
    },
    {
     "cell_type": "code",
     "collapsed": false,
     "input": [
      "vac_no_dict = {}\n",
      "#for key in struct_descript_dict.keys():\n",
      "#    vac_no = struct_descript_dict[key]['vac_no']\n",
      "#    if vac_no not in vac_no_dict.keys():\n",
      "#        vac_no_dict[vac_no] = 1\n",
      "#    else:\n",
      "#        vac_no_dict[vac_no] += 1\n",
      "\n",
      "X = struct_descript_dict.keys()\n",
      "X1 = map(int,X)\n",
      "X1.sort()\n",
      "X = map(str,X1)\n",
      "Y = []\n",
      "for x in X:\n",
      "    Y.append(struct_descript_dict[x]['vac_no'])\n",
      "#print vac_no_dict.keys(), vac_no_dict.values()\n",
      "plot(X,Y)\n",
      "show()\n"
     ],
     "language": "python",
     "metadata": {},
     "outputs": [],
     "prompt_number": 23
    },
    {
     "cell_type": "code",
     "collapsed": false,
     "input": [
      "print len(struct_descript_dict)"
     ],
     "language": "python",
     "metadata": {},
     "outputs": [
      {
       "output_type": "pyout",
       "prompt_number": 14,
       "text": [
        "106"
       ]
      },
      {
       "output_type": "stream",
       "stream": "stdout",
       "text": [
        "106\n"
       ]
      }
     ],
     "prompt_number": 15
    },
    {
     "cell_type": "code",
     "collapsed": false,
     "input": [
      "#Scatter plot\n",
      "def scat_plt1 (struct_dict):\n",
      "    # Need three properties\n",
      "    X=[]          #Charge\n",
      "    Y=[]          #Cordination number\n",
      "    Z=[]          #no. of vacancies\n",
      "    fig = plt.figure()\n",
      "    ax = fig.add_subplot(111,projection='3d')\n",
      "    \n",
      "    for key in struct_descript_dict.keys():\n",
      "        #for i in range(struct_descript_dict[key]['vac_no']):\n",
      "        x = struct_descript_dict[key]['vacancies'][0]['chrg_ratio']\n",
      "        y = struct_descript_dict[key]['vacancies'][0]['radii_ratio']\n",
      "        z = struct_descript_dict[key]['vac_no']\n",
      "        X.append(x)\n",
      "        Y.append(y)\n",
      "        Z.append(z)\n",
      "        ax.scatter(X,Y,Z)\n",
      "        \n",
      "    plt.show()"
     ],
     "language": "python",
     "metadata": {},
     "outputs": [],
     "prompt_number": 29
    },
    {
     "cell_type": "code",
     "collapsed": false,
     "input": [
      "scat_plt1(struct_descript_dict)"
     ],
     "language": "python",
     "metadata": {},
     "outputs": [],
     "prompt_number": 30
    },
    {
     "cell_type": "code",
     "collapsed": false,
     "input": [],
     "language": "python",
     "metadata": {},
     "outputs": []
    }
   ],
   "metadata": {}
  }
 ]
}