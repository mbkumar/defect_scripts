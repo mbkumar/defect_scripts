{
 "metadata": {
  "name": "vacancy_analysis"
 },
 "nbformat": 3,
 "nbformat_minor": 0,
 "worksheets": [
  {
   "cells": [
    {
     "cell_type": "code",
     "collapsed": false,
     "input": [
      "from pymatgen.core.structure import Structure"
     ],
     "language": "python",
     "metadata": {},
     "outputs": [
      {
       "ename": "SyntaxError",
       "evalue": "invalid syntax (point_defects.py, line 368)",
       "output_type": "pyerr",
       "traceback": [
        "\u001b[0;36m  File \u001b[0;32m\"/Users/mbkumar/Research/Defects/pymatgen/pymatgen/defects/point_defects.py\"\u001b[0;36m, line \u001b[0;32m368\u001b[0m\n\u001b[0;31m    for in\u001b[0m\n\u001b[0m         ^\u001b[0m\n\u001b[0;31mSyntaxError\u001b[0m\u001b[0;31m:\u001b[0m invalid syntax\n"
       ]
      }
     ],
     "prompt_number": 5
    },
    {
     "cell_type": "code",
     "collapsed": false,
     "input": [
      "cifparser = CifParser(u'Binary oxide dataset/20130524/comp_structures/33647--Mn16 O24.cif')\n",
      "struct = cifparser.get_structures()[0]\n",
      "vac = Vacancy(struct)\n",
      "vac_sites = vac.enumerate_defectsites()\n",
      "coordfinder = VoronoiCoordFinder(struct)\n",
      "\n",
      "#Get the coordination number of vacancy sites\n",
      "for site in vac_sites:\n",
      "    for i in range(len(struct.sites)):\n",
      "        if site == struct[i]:\n",
      "            print coordfinder.get_coordination_number(i)\n",
      "            print coordfinder.get_coordinated_sites(i)\n"
     ],
     "language": "python",
     "metadata": {},
     "outputs": [
      {
       "output_type": "stream",
       "stream": "stdout",
       "text": [
        "5.99934605839\n",
        "[PeriodicSite: O (2.5792, 1.5326, 1.9430) [0.4412, 0.2254, 0.4555], PeriodicSite: O (1.8445, 2.9999, -0.6122) [0.4555, 0.4412, 0.2254], PeriodicSite: O (1.3471, 5.2663, 0.8327) [0.5588, 0.7745, 0.5444], PeriodicSite: O (2.0808, 3.7998, 3.3873) [0.5444, 0.5588, 0.7745], PeriodicSite: O (3.9437, 3.7019, 0.9925) [0.7745, 0.5444, 0.5588], PeriodicSite: O (-0.0186, 3.0973, 1.7840) [0.2254, 0.4555, 0.4412]]"
       ]
      },
      {
       "output_type": "stream",
       "stream": "stdout",
       "text": [
        "\n",
        "5.09655431841"
       ]
      },
      {
       "output_type": "stream",
       "stream": "stdout",
       "text": [
        "\n",
        "[PeriodicSite: Mn (1.8236, -0.2411, 9.9122) [0.2145, -0.0355, 1.2500], PeriodicSite: O (1.8445, 2.9999, 7.7153) [0.4555, 0.4412, 1.2254], PeriodicSite: O (0.2875, -0.3022, 6.1632) [0.0144, -0.0444, 0.7301], PeriodicSite: O (-0.7103, 1.8349, 7.3356) [0.0445, 0.2699, 0.9857], PeriodicSite: O (2.9659, 1.4665, 5.8908) [0.4856, 0.2157, 0.9412], PeriodicSite: O (2.5792, 1.5326, 10.2705) [0.4412, 0.2254, 1.4555], PeriodicSite: O (0.7288, 1.8671, 4.5598) [0.2301, 0.2746, 0.7158], PeriodicSite: O (2.1750, -0.0974, 7.9885) [0.2699, -0.0143, 1.0445], PeriodicSite: O (-0.2871, 0.3024, 10.4911) [-0.0143, 0.0445, 1.2699], PeriodicSite: Mn (0.1392, 3.6407, 3.9669) [0.2855, 0.5355, 0.7500], PeriodicSite: O (-0.6540, 4.8670, 7.4947) [0.2746, 0.7158, 1.2301], PeriodicSite: Mn (-1.2598, 1.6998, 9.5186) [-0.0355, 0.2500, 1.2145], PeriodicSite: Mn (1.2598, 5.0995, 7.1364) [0.5355, 0.7500, 1.2855], PeriodicSite: O (-0.0186, 3.0973, 10.1115) [0.2254, 0.4555, 1.4412], PeriodicSite: O (-1.5574, 3.4971, 4.9395) [0.0588, 0.5143, 0.7842]]"
       ]
      },
      {
       "output_type": "stream",
       "stream": "stdout",
       "text": [
        "\n",
        "5.09594759428"
       ]
      },
      {
       "output_type": "stream",
       "stream": "stdout",
       "text": [
        "\n",
        "[PeriodicSite: Mn (-2.6660, 5.0995, 4.3605) [0.0354, 0.7500, 0.7854], PeriodicSite: O (1.3471, 5.2663, 0.8327) [0.5588, 0.7745, 0.5444], PeriodicSite: O (1.7499, 6.8972, 3.1150) [0.7301, 1.0144, 0.9556], PeriodicSite: O (-2.3683, 3.3018, 0.6115) [-0.0588, 0.4856, 0.2157], PeriodicSite: O (-2.0012, 6.3993, 0.8327) [0.2157, 0.9412, 0.4856], PeriodicSite: O (-0.6540, 4.8670, -0.8328) [0.2746, 0.7158, 0.2301], PeriodicSite: O (-0.0186, 3.0973, 1.7840) [0.2254, 0.4555, 0.4412], PeriodicSite: O (-3.6381, 6.4972, 3.3873) [0.0144, 0.9556, 0.7301], PeriodicSite: Mn (-1.2596, 8.4992, 1.1912) [0.4646, 1.2500, 0.7146], PeriodicSite: O (-4.6543, 4.9327, 0.9925) [-0.2301, 0.7255, 0.2843], PeriodicSite: Mn (-4.0647, 3.1588, 1.5846) [-0.2854, 0.4646, 0.2500], PeriodicSite: Mn (2.1019, 7.0403, 1.1912) [0.7854, 1.0354, 0.7500], PeriodicSite: O (-0.7902, 5.2349, 3.1150) [0.2843, 0.7699, 0.7255], PeriodicSite: O (-3.9075, 3.7019, 3.7683) [-0.2255, 0.5444, 0.5588]]"
       ]
      },
      {
       "output_type": "stream",
       "stream": "stdout",
       "text": [
        "\n",
        "5.09655972874"
       ]
      },
      {
       "output_type": "stream",
       "stream": "stdout",
       "text": [
        "\n",
        "[PeriodicSite: Mn (1.2598, 5.0995, -1.1911) [0.5355, 0.7500, 0.2855], PeriodicSite: O (2.5792, 1.5326, 1.9430) [0.4412, 0.2254, 0.4555], PeriodicSite: Mn (1.1206, 1.4588, -1.5847) [0.2500, 0.2145, -0.0355], PeriodicSite: O (2.9659, 1.4665, -2.4367) [0.4856, 0.2157, -0.0588], PeriodicSite: O (2.0808, 3.7998, -4.9401) [0.5444, 0.5588, -0.2255], PeriodicSite: O (1.3471, 5.2663, 0.8327) [0.5588, 0.7745, 0.5444], PeriodicSite: O (0.9596, 5.3320, -3.1149) [0.5143, 0.7842, 0.0588], PeriodicSite: O (2.1750, -0.0974, -0.3390) [0.2699, -0.0143, 0.0445], PeriodicSite: O (-0.6540, 4.8670, -0.8328) [0.2746, 0.7158, 0.2301], PeriodicSite: O (4.7165, 1.5647, -0.3390) [0.7158, 0.2301, 0.2746], PeriodicSite: O (3.9437, 3.7019, 0.9925) [0.7745, 0.5444, 0.5588], PeriodicSite: Mn (3.7865, 3.1588, -1.1912) [0.7146, 0.4646, 0.2500], PeriodicSite: O (-0.7103, 1.8349, -0.9919) [0.0445, 0.2699, -0.0143], PeriodicSite: O (-0.0186, 3.0973, 1.7840) [0.2254, 0.4555, 0.4412], PeriodicSite: Mn (1.9626, 3.3994, 1.3878) [0.5000, 0.5000, 0.5000], PeriodicSite: Mn (0.1392, 3.6407, -4.3606) [0.2855, 0.5355, -0.2500], PeriodicSite: Mn (-1.2598, 1.6998, 1.1911) [-0.0355, 0.2500, 0.2145], PeriodicSite: O (3.1969, 4.9327, -1.7833) [0.7699, 0.7255, 0.2843], PeriodicSite: O (0.7288, 1.8671, -3.7677) [0.2301, 0.2746, -0.2842]]"
       ]
      },
      {
       "output_type": "stream",
       "stream": "stdout",
       "text": [
        "\n",
        "5.09595639292"
       ]
      },
      {
       "output_type": "stream",
       "stream": "stdout",
       "text": [
        "\n",
        "[PeriodicSite: Mn (2.1019, 7.0403, 1.1912) [0.7854, 1.0354, 0.7500], PeriodicSite: O (2.0808, 3.7998, 3.3873) [0.5444, 0.5588, 0.7745], PeriodicSite: Mn (4.7678, 1.9409, 1.5847) [0.7500, 0.2855, 0.5355], PeriodicSite: O (4.7165, 1.5647, -0.3390) [0.7158, 0.2301, 0.2746], PeriodicSite: O (7.8327, 3.0973, -0.9919) [1.2254, 0.4555, 0.4412], PeriodicSite: O (2.5792, 1.5326, 1.9430) [0.4412, 0.2254, 0.4555], PeriodicSite: O (5.4830, 3.3018, -2.1643) [0.9412, 0.4856, 0.2157], PeriodicSite: O (4.6362, 4.9641, 3.7683) [0.9556, 0.7301, 1.0144], PeriodicSite: O (3.1969, 4.9327, -1.7833) [0.7699, 0.7255, 0.2843], PeriodicSite: Mn (2.8051, 5.3404, 4.3605) [0.7500, 0.7854, 1.0354], PeriodicSite: O (4.5797, 1.9331, 3.6085) [0.7255, 0.2843, 0.7699], PeriodicSite: O (1.8445, 2.9999, -0.6122) [0.4555, 0.4412, 0.2254], PeriodicSite: Mn (7.0089, 4.8586, -1.5846) [1.2500, 0.7146, 0.4646], PeriodicSite: O (4.2131, 6.4972, 0.6115) [1.0144, 0.9556, 0.7301], PeriodicSite: O (1.3471, 5.2663, 0.8327) [0.5588, 0.7745, 0.5444], PeriodicSite: Mn (1.9626, 3.3994, 1.3878) [0.5000, 0.5000, 0.5000], PeriodicSite: Mn (3.7865, 3.1588, -1.1912) [0.7146, 0.4646, 0.2500], PeriodicSite: Mn (5.1852, 5.0995, 1.5846) [1.0354, 0.7500, 0.7854], PeriodicSite: O (6.2938, 3.4971, 2.1637) [1.0588, 0.5143, 0.7842], PeriodicSite: O (7.0610, 5.2349, 0.3392) [1.2843, 0.7699, 0.7255]]"
       ]
      },
      {
       "output_type": "stream",
       "stream": "stdout",
       "text": [
        "\n"
       ]
      }
     ],
     "prompt_number": 16
    },
    {
     "cell_type": "code",
     "collapsed": false,
     "input": [
      "print \n"
     ],
     "language": "python",
     "metadata": {},
     "outputs": [
      {
       "output_type": "stream",
       "stream": "stdout",
       "text": [
        "Structure Summary (Mn16 O24)\n",
        "Reduced Formula: Mn2O3\n",
        "abc   :   8.327485   8.327484   8.327484\n",
        "angles: 109.471220 109.471219 109.471220\n",
        "Sites (40)\n",
        "1 Mn     0.499952     0.499952     0.499952\n",
        "2 Mn     0.000000     0.000048     0.500000\n",
        "3 Mn     0.500000     0.000000     0.000048\n",
        "4 Mn     0.000048     0.500000     0.000000\n",
        "5 Mn     0.250000     0.214547     0.964547\n",
        "6 Mn     0.285453     0.535453     0.750000\n",
        "7 Mn     0.535453     0.750000     0.285453\n",
        "8 Mn     0.214547     0.964547     0.250000\n",
        "9 Mn     0.964547     0.250000     0.214547\n",
        "10 Mn     0.750000     0.285453     0.535453\n",
        "11 Mn     0.250000     0.714567     0.464567\n",
        "12 Mn     0.785433     0.035433     0.750000\n",
        "13 Mn     0.035433     0.750000     0.785433\n",
        "14 Mn     0.714567     0.464567     0.250000\n",
        "15 Mn     0.464567     0.250000     0.714567\n",
        "16 Mn     0.750000     0.785433     0.035433\n",
        "17 O     0.455531     0.441204     0.225400\n",
        "18 O     0.230131     0.274600     0.715804\n",
        "19 O     0.514327     0.784196     0.058796\n",
        "20 O     0.269869     0.985673     0.044469\n",
        "21 O     0.274600     0.715804     0.230131\n",
        "22 O     0.058796     0.514327     0.784196\n",
        "23 O     0.985673     0.044469     0.269869\n",
        "24 O     0.225400     0.455531     0.441204\n",
        "25 O     0.441204     0.225400     0.455531\n",
        "26 O     0.715804     0.230131     0.274600\n",
        "27 O     0.784196     0.058796     0.514327\n",
        "28 O     0.044469     0.269869     0.985673\n",
        "29 O     0.774530     0.544447     0.558841\n",
        "30 O     0.215688     0.941159     0.485605\n",
        "31 O     0.730083     0.014395     0.955553\n",
        "32 O     0.284312     0.769917     0.725470\n",
        "33 O     0.941159     0.485605     0.215688\n",
        "34 O     0.955553     0.730083     0.014395\n",
        "35 O     0.769917     0.725470     0.284312\n",
        "36 O     0.558841     0.774530     0.544447\n",
        "37 O     0.544447     0.558841     0.774530\n",
        "38 O     0.485605     0.215688     0.941159\n",
        "39 O     0.014395     0.955553     0.730083\n",
        "40 O     0.725470     0.284312     0.769917\n"
       ]
      }
     ],
     "prompt_number": 6
    },
    {
     "cell_type": "code",
     "collapsed": false,
     "input": [
      "reload"
     ],
     "language": "python",
     "metadata": {},
     "outputs": []
    }
   ],
   "metadata": {}
  }
 ]
}